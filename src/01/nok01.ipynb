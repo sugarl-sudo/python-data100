{
 "cells": [
  {
   "cell_type": "code",
   "execution_count": 9,
   "outputs": [
    {
     "data": {
      "text/plain": "  customer_id customer_name    registration_date customer_name_kana  \\\n0    IK152942        平田 裕次郎  2019-01-01 00:25:33          ひらた ゆうじろう   \n1    TS808488         田村 詩織  2019-01-01 01:13:45            たむら しおり   \n2    AS834628         久野 由樹  2019-01-01 02:00:14             ひさの ゆき   \n3    AS345469          鶴岡 薫  2019-01-01 04:48:22           つるおか かおる   \n4    GD892565         大内 高史  2019-01-01 04:54:51           おおうち たかし   \n\n                         email gender  age      birth pref  \n0  hirata_yuujirou@example.com      M   29  1990/6/10  石川県  \n1    tamura_shiori@example.com      F   33  1986/5/20  東京都  \n2      hisano_yuki@example.com      F   63   1956/1/2  茨城県  \n3   tsuruoka_kaoru@example.com      M   74  1945/3/25  東京都  \n4   oouchi_takashi@example.com      M   54   1965/8/5  千葉県  ",
      "text/html": "<div>\n<style scoped>\n    .dataframe tbody tr th:only-of-type {\n        vertical-align: middle;\n    }\n\n    .dataframe tbody tr th {\n        vertical-align: top;\n    }\n\n    .dataframe thead th {\n        text-align: right;\n    }\n</style>\n<table border=\"1\" class=\"dataframe\">\n  <thead>\n    <tr style=\"text-align: right;\">\n      <th></th>\n      <th>customer_id</th>\n      <th>customer_name</th>\n      <th>registration_date</th>\n      <th>customer_name_kana</th>\n      <th>email</th>\n      <th>gender</th>\n      <th>age</th>\n      <th>birth</th>\n      <th>pref</th>\n    </tr>\n  </thead>\n  <tbody>\n    <tr>\n      <th>0</th>\n      <td>IK152942</td>\n      <td>平田 裕次郎</td>\n      <td>2019-01-01 00:25:33</td>\n      <td>ひらた ゆうじろう</td>\n      <td>hirata_yuujirou@example.com</td>\n      <td>M</td>\n      <td>29</td>\n      <td>1990/6/10</td>\n      <td>石川県</td>\n    </tr>\n    <tr>\n      <th>1</th>\n      <td>TS808488</td>\n      <td>田村 詩織</td>\n      <td>2019-01-01 01:13:45</td>\n      <td>たむら しおり</td>\n      <td>tamura_shiori@example.com</td>\n      <td>F</td>\n      <td>33</td>\n      <td>1986/5/20</td>\n      <td>東京都</td>\n    </tr>\n    <tr>\n      <th>2</th>\n      <td>AS834628</td>\n      <td>久野 由樹</td>\n      <td>2019-01-01 02:00:14</td>\n      <td>ひさの ゆき</td>\n      <td>hisano_yuki@example.com</td>\n      <td>F</td>\n      <td>63</td>\n      <td>1956/1/2</td>\n      <td>茨城県</td>\n    </tr>\n    <tr>\n      <th>3</th>\n      <td>AS345469</td>\n      <td>鶴岡 薫</td>\n      <td>2019-01-01 04:48:22</td>\n      <td>つるおか かおる</td>\n      <td>tsuruoka_kaoru@example.com</td>\n      <td>M</td>\n      <td>74</td>\n      <td>1945/3/25</td>\n      <td>東京都</td>\n    </tr>\n    <tr>\n      <th>4</th>\n      <td>GD892565</td>\n      <td>大内 高史</td>\n      <td>2019-01-01 04:54:51</td>\n      <td>おおうち たかし</td>\n      <td>oouchi_takashi@example.com</td>\n      <td>M</td>\n      <td>54</td>\n      <td>1965/8/5</td>\n      <td>千葉県</td>\n    </tr>\n  </tbody>\n</table>\n</div>"
     },
     "execution_count": 9,
     "metadata": {},
     "output_type": "execute_result"
    }
   ],
   "source": [
    "import pandas as pd\n",
    "\n",
    "customer_master = pd.read_csv('../../100knock-data_analytics/1章/customer_master.csv')\n",
    "customer_master.head()"
   ],
   "metadata": {
    "collapsed": false,
    "pycharm": {
     "name": "#%%\n"
    }
   }
  },
  {
   "cell_type": "code",
   "execution_count": 10,
   "outputs": [
    {
     "data": {
      "text/plain": "  item_id item_name  item_price\n0    S001      PC-A       50000\n1    S002      PC-B       85000\n2    S003      PC-C      120000\n3    S004      PC-D      180000\n4    S005      PC-E      210000",
      "text/html": "<div>\n<style scoped>\n    .dataframe tbody tr th:only-of-type {\n        vertical-align: middle;\n    }\n\n    .dataframe tbody tr th {\n        vertical-align: top;\n    }\n\n    .dataframe thead th {\n        text-align: right;\n    }\n</style>\n<table border=\"1\" class=\"dataframe\">\n  <thead>\n    <tr style=\"text-align: right;\">\n      <th></th>\n      <th>item_id</th>\n      <th>item_name</th>\n      <th>item_price</th>\n    </tr>\n  </thead>\n  <tbody>\n    <tr>\n      <th>0</th>\n      <td>S001</td>\n      <td>PC-A</td>\n      <td>50000</td>\n    </tr>\n    <tr>\n      <th>1</th>\n      <td>S002</td>\n      <td>PC-B</td>\n      <td>85000</td>\n    </tr>\n    <tr>\n      <th>2</th>\n      <td>S003</td>\n      <td>PC-C</td>\n      <td>120000</td>\n    </tr>\n    <tr>\n      <th>3</th>\n      <td>S004</td>\n      <td>PC-D</td>\n      <td>180000</td>\n    </tr>\n    <tr>\n      <th>4</th>\n      <td>S005</td>\n      <td>PC-E</td>\n      <td>210000</td>\n    </tr>\n  </tbody>\n</table>\n</div>"
     },
     "execution_count": 10,
     "metadata": {},
     "output_type": "execute_result"
    }
   ],
   "source": [
    "item_master = pd.read_csv('../../100knock-data_analytics/1章/item_master.csv')\n",
    "item_master.head()"
   ],
   "metadata": {
    "collapsed": false,
    "pycharm": {
     "name": "#%%\n"
    }
   }
  },
  {
   "cell_type": "code",
   "execution_count": 14,
   "outputs": [
    {
     "data": {
      "text/plain": "  transaction_id   price         payment_date customer_id\n0    T0000000113  210000  2019-02-01 01:36:57    PL563502\n1    T0000000114   50000  2019-02-01 01:37:23    HD678019\n2    T0000000115  120000  2019-02-01 02:34:19    HD298120\n3    T0000000116  210000  2019-02-01 02:47:23    IK452215\n4    T0000000117  170000  2019-02-01 04:33:46    PL542865",
      "text/html": "<div>\n<style scoped>\n    .dataframe tbody tr th:only-of-type {\n        vertical-align: middle;\n    }\n\n    .dataframe tbody tr th {\n        vertical-align: top;\n    }\n\n    .dataframe thead th {\n        text-align: right;\n    }\n</style>\n<table border=\"1\" class=\"dataframe\">\n  <thead>\n    <tr style=\"text-align: right;\">\n      <th></th>\n      <th>transaction_id</th>\n      <th>price</th>\n      <th>payment_date</th>\n      <th>customer_id</th>\n    </tr>\n  </thead>\n  <tbody>\n    <tr>\n      <th>0</th>\n      <td>T0000000113</td>\n      <td>210000</td>\n      <td>2019-02-01 01:36:57</td>\n      <td>PL563502</td>\n    </tr>\n    <tr>\n      <th>1</th>\n      <td>T0000000114</td>\n      <td>50000</td>\n      <td>2019-02-01 01:37:23</td>\n      <td>HD678019</td>\n    </tr>\n    <tr>\n      <th>2</th>\n      <td>T0000000115</td>\n      <td>120000</td>\n      <td>2019-02-01 02:34:19</td>\n      <td>HD298120</td>\n    </tr>\n    <tr>\n      <th>3</th>\n      <td>T0000000116</td>\n      <td>210000</td>\n      <td>2019-02-01 02:47:23</td>\n      <td>IK452215</td>\n    </tr>\n    <tr>\n      <th>4</th>\n      <td>T0000000117</td>\n      <td>170000</td>\n      <td>2019-02-01 04:33:46</td>\n      <td>PL542865</td>\n    </tr>\n  </tbody>\n</table>\n</div>"
     },
     "execution_count": 14,
     "metadata": {},
     "output_type": "execute_result"
    }
   ],
   "source": [
    "transaction_1 = pd.read_csv('../../100knock-data_analytics/1章/transaction_1.csv')\n",
    "transaction_1.head()"
   ],
   "metadata": {
    "collapsed": false,
    "pycharm": {
     "name": "#%%\n"
    }
   }
  },
  {
   "cell_type": "code",
   "execution_count": 16,
   "outputs": [
    {
     "data": {
      "text/plain": "  transaction_id   price         payment_date customer_id\n0    T0000005113  295000  2019-06-15 07:20:27    TS169261\n1    T0000005114   50000  2019-06-15 07:35:47    HI599892\n2    T0000005115   85000  2019-06-15 07:56:36    HI421757\n3    T0000005116   50000  2019-06-15 08:40:55    OA386378\n4    T0000005117  120000  2019-06-15 08:44:23    TS506913",
      "text/html": "<div>\n<style scoped>\n    .dataframe tbody tr th:only-of-type {\n        vertical-align: middle;\n    }\n\n    .dataframe tbody tr th {\n        vertical-align: top;\n    }\n\n    .dataframe thead th {\n        text-align: right;\n    }\n</style>\n<table border=\"1\" class=\"dataframe\">\n  <thead>\n    <tr style=\"text-align: right;\">\n      <th></th>\n      <th>transaction_id</th>\n      <th>price</th>\n      <th>payment_date</th>\n      <th>customer_id</th>\n    </tr>\n  </thead>\n  <tbody>\n    <tr>\n      <th>0</th>\n      <td>T0000005113</td>\n      <td>295000</td>\n      <td>2019-06-15 07:20:27</td>\n      <td>TS169261</td>\n    </tr>\n    <tr>\n      <th>1</th>\n      <td>T0000005114</td>\n      <td>50000</td>\n      <td>2019-06-15 07:35:47</td>\n      <td>HI599892</td>\n    </tr>\n    <tr>\n      <th>2</th>\n      <td>T0000005115</td>\n      <td>85000</td>\n      <td>2019-06-15 07:56:36</td>\n      <td>HI421757</td>\n    </tr>\n    <tr>\n      <th>3</th>\n      <td>T0000005116</td>\n      <td>50000</td>\n      <td>2019-06-15 08:40:55</td>\n      <td>OA386378</td>\n    </tr>\n    <tr>\n      <th>4</th>\n      <td>T0000005117</td>\n      <td>120000</td>\n      <td>2019-06-15 08:44:23</td>\n      <td>TS506913</td>\n    </tr>\n  </tbody>\n</table>\n</div>"
     },
     "execution_count": 16,
     "metadata": {},
     "output_type": "execute_result"
    }
   ],
   "source": [
    "transaction_2 = pd.read_csv('../../100knock-data_analytics/1章/transaction_2.csv')\n",
    "transaction_2.head()"
   ],
   "metadata": {
    "collapsed": false,
    "pycharm": {
     "name": "#%%\n"
    }
   }
  },
  {
   "cell_type": "code",
   "execution_count": 18,
   "outputs": [
    {
     "data": {
      "text/plain": "  transaction_id   price         payment_date customer_id\n0    T0000000113  210000  2019-02-01 01:36:57    PL563502\n1    T0000000114   50000  2019-02-01 01:37:23    HD678019\n2    T0000000115  120000  2019-02-01 02:34:19    HD298120\n3    T0000000116  210000  2019-02-01 02:47:23    IK452215\n4    T0000000117  170000  2019-02-01 04:33:46    PL542865",
      "text/html": "<div>\n<style scoped>\n    .dataframe tbody tr th:only-of-type {\n        vertical-align: middle;\n    }\n\n    .dataframe tbody tr th {\n        vertical-align: top;\n    }\n\n    .dataframe thead th {\n        text-align: right;\n    }\n</style>\n<table border=\"1\" class=\"dataframe\">\n  <thead>\n    <tr style=\"text-align: right;\">\n      <th></th>\n      <th>transaction_id</th>\n      <th>price</th>\n      <th>payment_date</th>\n      <th>customer_id</th>\n    </tr>\n  </thead>\n  <tbody>\n    <tr>\n      <th>0</th>\n      <td>T0000000113</td>\n      <td>210000</td>\n      <td>2019-02-01 01:36:57</td>\n      <td>PL563502</td>\n    </tr>\n    <tr>\n      <th>1</th>\n      <td>T0000000114</td>\n      <td>50000</td>\n      <td>2019-02-01 01:37:23</td>\n      <td>HD678019</td>\n    </tr>\n    <tr>\n      <th>2</th>\n      <td>T0000000115</td>\n      <td>120000</td>\n      <td>2019-02-01 02:34:19</td>\n      <td>HD298120</td>\n    </tr>\n    <tr>\n      <th>3</th>\n      <td>T0000000116</td>\n      <td>210000</td>\n      <td>2019-02-01 02:47:23</td>\n      <td>IK452215</td>\n    </tr>\n    <tr>\n      <th>4</th>\n      <td>T0000000117</td>\n      <td>170000</td>\n      <td>2019-02-01 04:33:46</td>\n      <td>PL542865</td>\n    </tr>\n  </tbody>\n</table>\n</div>"
     },
     "execution_count": 18,
     "metadata": {},
     "output_type": "execute_result"
    }
   ],
   "source": [
    "transaction = pd.concat([transaction_1, transaction_2], ignore_index=True)\n",
    "transaction.head()"
   ],
   "metadata": {
    "collapsed": false,
    "pycharm": {
     "name": "#%%\n"
    }
   }
  },
  {
   "cell_type": "code",
   "execution_count": 19,
   "outputs": [
    {
     "name": "stdout",
     "output_type": "stream",
     "text": [
      "5000\n",
      "1786\n",
      "6786\n"
     ]
    }
   ],
   "source": [
    "print(len(transaction_1))\n",
    "print(len(transaction_2))\n",
    "print(len(transaction))"
   ],
   "metadata": {
    "collapsed": false,
    "pycharm": {
     "name": "#%%\n"
    }
   }
  },
  {
   "cell_type": "code",
   "execution_count": 21,
   "outputs": [
    {
     "data": {
      "text/plain": "   detail_id transaction_id item_id  quantity\n0          0    T0000000113    S005         1\n1          1    T0000000114    S001         1\n2          2    T0000000115    S003         1\n3          3    T0000000116    S005         1\n4          4    T0000000117    S002         2",
      "text/html": "<div>\n<style scoped>\n    .dataframe tbody tr th:only-of-type {\n        vertical-align: middle;\n    }\n\n    .dataframe tbody tr th {\n        vertical-align: top;\n    }\n\n    .dataframe thead th {\n        text-align: right;\n    }\n</style>\n<table border=\"1\" class=\"dataframe\">\n  <thead>\n    <tr style=\"text-align: right;\">\n      <th></th>\n      <th>detail_id</th>\n      <th>transaction_id</th>\n      <th>item_id</th>\n      <th>quantity</th>\n    </tr>\n  </thead>\n  <tbody>\n    <tr>\n      <th>0</th>\n      <td>0</td>\n      <td>T0000000113</td>\n      <td>S005</td>\n      <td>1</td>\n    </tr>\n    <tr>\n      <th>1</th>\n      <td>1</td>\n      <td>T0000000114</td>\n      <td>S001</td>\n      <td>1</td>\n    </tr>\n    <tr>\n      <th>2</th>\n      <td>2</td>\n      <td>T0000000115</td>\n      <td>S003</td>\n      <td>1</td>\n    </tr>\n    <tr>\n      <th>3</th>\n      <td>3</td>\n      <td>T0000000116</td>\n      <td>S005</td>\n      <td>1</td>\n    </tr>\n    <tr>\n      <th>4</th>\n      <td>4</td>\n      <td>T0000000117</td>\n      <td>S002</td>\n      <td>2</td>\n    </tr>\n  </tbody>\n</table>\n</div>"
     },
     "execution_count": 21,
     "metadata": {},
     "output_type": "execute_result"
    }
   ],
   "source": [
    "transaction_detail_1 = pd.read_csv('../../100knock-data_analytics/1章/transaction_detail_1.csv')\n",
    "transaction_detail_2 = pd.read_csv('../../100knock-data_analytics/1章/transaction_detail_2.csv')\n",
    "\n",
    "transaction_detail = pd.concat([transaction_detail_1, transaction_detail_2], ignore_index=True)\n",
    "transaction_detail.head()"
   ],
   "metadata": {
    "collapsed": false,
    "pycharm": {
     "name": "#%%\n"
    }
   }
  },
  {
   "cell_type": "code",
   "execution_count": 23,
   "outputs": [
    {
     "data": {
      "text/plain": "   detail_id transaction_id item_id  quantity         payment_date customer_id\n0          0    T0000000113    S005         1  2019-02-01 01:36:57    PL563502\n1          1    T0000000114    S001         1  2019-02-01 01:37:23    HD678019\n2          2    T0000000115    S003         1  2019-02-01 02:34:19    HD298120\n3          3    T0000000116    S005         1  2019-02-01 02:47:23    IK452215\n4          4    T0000000117    S002         2  2019-02-01 04:33:46    PL542865",
      "text/html": "<div>\n<style scoped>\n    .dataframe tbody tr th:only-of-type {\n        vertical-align: middle;\n    }\n\n    .dataframe tbody tr th {\n        vertical-align: top;\n    }\n\n    .dataframe thead th {\n        text-align: right;\n    }\n</style>\n<table border=\"1\" class=\"dataframe\">\n  <thead>\n    <tr style=\"text-align: right;\">\n      <th></th>\n      <th>detail_id</th>\n      <th>transaction_id</th>\n      <th>item_id</th>\n      <th>quantity</th>\n      <th>payment_date</th>\n      <th>customer_id</th>\n    </tr>\n  </thead>\n  <tbody>\n    <tr>\n      <th>0</th>\n      <td>0</td>\n      <td>T0000000113</td>\n      <td>S005</td>\n      <td>1</td>\n      <td>2019-02-01 01:36:57</td>\n      <td>PL563502</td>\n    </tr>\n    <tr>\n      <th>1</th>\n      <td>1</td>\n      <td>T0000000114</td>\n      <td>S001</td>\n      <td>1</td>\n      <td>2019-02-01 01:37:23</td>\n      <td>HD678019</td>\n    </tr>\n    <tr>\n      <th>2</th>\n      <td>2</td>\n      <td>T0000000115</td>\n      <td>S003</td>\n      <td>1</td>\n      <td>2019-02-01 02:34:19</td>\n      <td>HD298120</td>\n    </tr>\n    <tr>\n      <th>3</th>\n      <td>3</td>\n      <td>T0000000116</td>\n      <td>S005</td>\n      <td>1</td>\n      <td>2019-02-01 02:47:23</td>\n      <td>IK452215</td>\n    </tr>\n    <tr>\n      <th>4</th>\n      <td>4</td>\n      <td>T0000000117</td>\n      <td>S002</td>\n      <td>2</td>\n      <td>2019-02-01 04:33:46</td>\n      <td>PL542865</td>\n    </tr>\n  </tbody>\n</table>\n</div>"
     },
     "execution_count": 23,
     "metadata": {},
     "output_type": "execute_result"
    }
   ],
   "source": [
    "join_data = pd.merge(transaction_detail, transaction[[\"transaction_id\", \"payment_date\", \"customer_id\"]], on=\"transaction_id\", how=\"left\")\n",
    "join_data.head()"
   ],
   "metadata": {
    "collapsed": false,
    "pycharm": {
     "name": "#%%\n"
    }
   }
  },
  {
   "cell_type": "code",
   "execution_count": null,
   "outputs": [],
   "source": [
    "join_data = pd.merge()"
   ],
   "metadata": {
    "collapsed": false,
    "pycharm": {
     "name": "#%%\n"
    }
   }
  },
  {
   "cell_type": "code",
   "execution_count": 25,
   "outputs": [
    {
     "data": {
      "text/plain": "   detail_id transaction_id item_id  quantity         payment_date  \\\n0          0    T0000000113    S005         1  2019-02-01 01:36:57   \n1          1    T0000000114    S001         1  2019-02-01 01:37:23   \n2          2    T0000000115    S003         1  2019-02-01 02:34:19   \n3          3    T0000000116    S005         1  2019-02-01 02:47:23   \n4          4    T0000000117    S002         2  2019-02-01 04:33:46   \n\n  customer_id customer_name_x  registration_date_x customer_name_kana_x  \\\n0    PL563502           井本 芳正  2019-01-07 14:34:35             いもと よしまさ   \n1    HD678019           三船 六郎  2019-01-27 18:00:11             みふね ろくろう   \n2    HD298120           山根 小雁  2019-01-11 08:16:02              やまね こがん   \n3    IK452215           池田 菜摘  2019-01-10 05:07:38              いけだ なつみ   \n4    PL542865           栗田 憲一  2019-01-25 06:46:05             くりた けんいち   \n\n                       email_x  ... customer_name_y  registration_date_y  \\\n0  imoto_yoshimasa@example.com  ...           井本 芳正  2019-01-07 14:34:35   \n1   mifune_rokurou@example.com  ...           三船 六郎  2019-01-27 18:00:11   \n2     yamane_kogan@example.com  ...           山根 小雁  2019-01-11 08:16:02   \n3    ikeda_natsumi@example.com  ...           池田 菜摘  2019-01-10 05:07:38   \n4   kurita_kenichi@example.com  ...           栗田 憲一  2019-01-25 06:46:05   \n\n  customer_name_kana_y                      email_y gender_y  age_y  \\\n0             いもと よしまさ  imoto_yoshimasa@example.com        M     30   \n1             みふね ろくろう   mifune_rokurou@example.com        M     73   \n2              やまね こがん     yamane_kogan@example.com        M     42   \n3              いけだ なつみ    ikeda_natsumi@example.com        F     47   \n4             くりた けんいち   kurita_kenichi@example.com        M     74   \n\n      birth_y pref_y item_name_y item_price_y  \n0   1989/7/15    熊本県        PC-E       210000  \n1  1945/11/29    京都府        PC-A        50000  \n2   1977/5/17    茨城県        PC-C       120000  \n3   1972/3/17    兵庫県        PC-E       210000  \n4  1944/12/17    長崎県        PC-B        85000  \n\n[5 rows x 26 columns]",
      "text/html": "<div>\n<style scoped>\n    .dataframe tbody tr th:only-of-type {\n        vertical-align: middle;\n    }\n\n    .dataframe tbody tr th {\n        vertical-align: top;\n    }\n\n    .dataframe thead th {\n        text-align: right;\n    }\n</style>\n<table border=\"1\" class=\"dataframe\">\n  <thead>\n    <tr style=\"text-align: right;\">\n      <th></th>\n      <th>detail_id</th>\n      <th>transaction_id</th>\n      <th>item_id</th>\n      <th>quantity</th>\n      <th>payment_date</th>\n      <th>customer_id</th>\n      <th>customer_name_x</th>\n      <th>registration_date_x</th>\n      <th>customer_name_kana_x</th>\n      <th>email_x</th>\n      <th>...</th>\n      <th>customer_name_y</th>\n      <th>registration_date_y</th>\n      <th>customer_name_kana_y</th>\n      <th>email_y</th>\n      <th>gender_y</th>\n      <th>age_y</th>\n      <th>birth_y</th>\n      <th>pref_y</th>\n      <th>item_name_y</th>\n      <th>item_price_y</th>\n    </tr>\n  </thead>\n  <tbody>\n    <tr>\n      <th>0</th>\n      <td>0</td>\n      <td>T0000000113</td>\n      <td>S005</td>\n      <td>1</td>\n      <td>2019-02-01 01:36:57</td>\n      <td>PL563502</td>\n      <td>井本 芳正</td>\n      <td>2019-01-07 14:34:35</td>\n      <td>いもと よしまさ</td>\n      <td>imoto_yoshimasa@example.com</td>\n      <td>...</td>\n      <td>井本 芳正</td>\n      <td>2019-01-07 14:34:35</td>\n      <td>いもと よしまさ</td>\n      <td>imoto_yoshimasa@example.com</td>\n      <td>M</td>\n      <td>30</td>\n      <td>1989/7/15</td>\n      <td>熊本県</td>\n      <td>PC-E</td>\n      <td>210000</td>\n    </tr>\n    <tr>\n      <th>1</th>\n      <td>1</td>\n      <td>T0000000114</td>\n      <td>S001</td>\n      <td>1</td>\n      <td>2019-02-01 01:37:23</td>\n      <td>HD678019</td>\n      <td>三船 六郎</td>\n      <td>2019-01-27 18:00:11</td>\n      <td>みふね ろくろう</td>\n      <td>mifune_rokurou@example.com</td>\n      <td>...</td>\n      <td>三船 六郎</td>\n      <td>2019-01-27 18:00:11</td>\n      <td>みふね ろくろう</td>\n      <td>mifune_rokurou@example.com</td>\n      <td>M</td>\n      <td>73</td>\n      <td>1945/11/29</td>\n      <td>京都府</td>\n      <td>PC-A</td>\n      <td>50000</td>\n    </tr>\n    <tr>\n      <th>2</th>\n      <td>2</td>\n      <td>T0000000115</td>\n      <td>S003</td>\n      <td>1</td>\n      <td>2019-02-01 02:34:19</td>\n      <td>HD298120</td>\n      <td>山根 小雁</td>\n      <td>2019-01-11 08:16:02</td>\n      <td>やまね こがん</td>\n      <td>yamane_kogan@example.com</td>\n      <td>...</td>\n      <td>山根 小雁</td>\n      <td>2019-01-11 08:16:02</td>\n      <td>やまね こがん</td>\n      <td>yamane_kogan@example.com</td>\n      <td>M</td>\n      <td>42</td>\n      <td>1977/5/17</td>\n      <td>茨城県</td>\n      <td>PC-C</td>\n      <td>120000</td>\n    </tr>\n    <tr>\n      <th>3</th>\n      <td>3</td>\n      <td>T0000000116</td>\n      <td>S005</td>\n      <td>1</td>\n      <td>2019-02-01 02:47:23</td>\n      <td>IK452215</td>\n      <td>池田 菜摘</td>\n      <td>2019-01-10 05:07:38</td>\n      <td>いけだ なつみ</td>\n      <td>ikeda_natsumi@example.com</td>\n      <td>...</td>\n      <td>池田 菜摘</td>\n      <td>2019-01-10 05:07:38</td>\n      <td>いけだ なつみ</td>\n      <td>ikeda_natsumi@example.com</td>\n      <td>F</td>\n      <td>47</td>\n      <td>1972/3/17</td>\n      <td>兵庫県</td>\n      <td>PC-E</td>\n      <td>210000</td>\n    </tr>\n    <tr>\n      <th>4</th>\n      <td>4</td>\n      <td>T0000000117</td>\n      <td>S002</td>\n      <td>2</td>\n      <td>2019-02-01 04:33:46</td>\n      <td>PL542865</td>\n      <td>栗田 憲一</td>\n      <td>2019-01-25 06:46:05</td>\n      <td>くりた けんいち</td>\n      <td>kurita_kenichi@example.com</td>\n      <td>...</td>\n      <td>栗田 憲一</td>\n      <td>2019-01-25 06:46:05</td>\n      <td>くりた けんいち</td>\n      <td>kurita_kenichi@example.com</td>\n      <td>M</td>\n      <td>74</td>\n      <td>1944/12/17</td>\n      <td>長崎県</td>\n      <td>PC-B</td>\n      <td>85000</td>\n    </tr>\n  </tbody>\n</table>\n<p>5 rows × 26 columns</p>\n</div>"
     },
     "execution_count": 25,
     "metadata": {},
     "output_type": "execute_result"
    }
   ],
   "source": [
    "join_data = pd.merge(join_data, customer_master, on=\"customer_id\", how=\"left\")\n",
    "join_data = pd.merge(join_data, item_master, on=\"item_id\", how=\"left\")\n",
    "join_data.head()"
   ],
   "metadata": {
    "collapsed": false,
    "pycharm": {
     "name": "#%%\n"
    }
   }
  },
  {
   "cell_type": "code",
   "execution_count": null,
   "outputs": [],
   "source": [],
   "metadata": {
    "collapsed": false,
    "pycharm": {
     "name": "#%%\n"
    }
   }
  },
  {
   "cell_type": "markdown",
   "source": [],
   "metadata": {
    "collapsed": false,
    "pycharm": {
     "name": "#%% md\n"
    }
   }
  }
 ],
 "metadata": {
  "kernelspec": {
   "display_name": "Python 3",
   "language": "python",
   "name": "python3"
  },
  "language_info": {
   "codemirror_mode": {
    "name": "ipython",
    "version": 2
   },
   "file_extension": ".py",
   "mimetype": "text/x-python",
   "name": "python",
   "nbconvert_exporter": "python",
   "pygments_lexer": "ipython2",
   "version": "2.7.6"
  }
 },
 "nbformat": 4,
 "nbformat_minor": 0
}